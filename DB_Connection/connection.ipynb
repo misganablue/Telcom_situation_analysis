{
 "cells": [
  {
   "cell_type": "markdown",
   "metadata": {},
   "source": [
    "\n"
   ]
  },
  {
   "cell_type": "code",
   "execution_count": 1,
   "metadata": {},
   "outputs": [
    {
     "name": "stdout",
     "output_type": "stream",
     "text": [
      "Connected to the database telecom\n",
      "Disconnected from the database telecom\n"
     ]
    }
   ],
   "source": [
    "import psycopg2\n",
    "from psycopg2 import OperationalError\n",
    "\n",
    "class PostgresConnection:\n",
    "    def __init__(self, dbname, user, password, host=\"localhost\", port=\"5432\"):\n",
    "        self.dbname = dbname\n",
    "        self.user = user\n",
    "        self.password = password\n",
    "        self.host = host\n",
    "        self.port = port\n",
    "        self.connection = None\n",
    "\n",
    "    def connect(self):\n",
    "        try:\n",
    "            # Establish a connection to the database\n",
    "            self.connection = psycopg2.connect(\n",
    "                dbname=self.dbname,\n",
    "                user=self.user,\n",
    "                password=self.password,\n",
    "                host=self.host,\n",
    "                port=self.port\n",
    "            )\n",
    "            print(f\"Connected to the database {self.dbname}\")\n",
    "        except OperationalError as e:\n",
    "            print(f\"The error '{e}' occurred\")\n",
    "\n",
    "    def disconnect(self):\n",
    "        if self.connection:\n",
    "            self.connection.close()\n",
    "            print(f\"Disconnected from the database {self.dbname}\")\n",
    "\n",
    "# Example usage\n",
    "# Replace dbname, user, password with your actual database credentials\n",
    "db = PostgresConnection(dbname='telecom', user='postgres', password='ab1234')\n",
    "db.connect()\n",
    "\n",
    "# Disconnect when you're done\n",
    "db.disconnect()\n"
   ]
  }
 ],
 "metadata": {
  "kernelspec": {
   "display_name": "env",
   "language": "python",
   "name": "python3"
  },
  "language_info": {
   "codemirror_mode": {
    "name": "ipython",
    "version": 3
   },
   "file_extension": ".py",
   "mimetype": "text/x-python",
   "name": "python",
   "nbconvert_exporter": "python",
   "pygments_lexer": "ipython3",
   "version": "3.12.4"
  }
 },
 "nbformat": 4,
 "nbformat_minor": 2
}
